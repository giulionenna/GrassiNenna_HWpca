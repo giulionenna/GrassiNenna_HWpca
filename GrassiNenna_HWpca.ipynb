{
 "cells": [
  {
   "attachments": {},
   "cell_type": "markdown",
   "metadata": {},
   "source": [
    "## Preparation\n",
    "In this section, packages will be imported and the random seed will be set.\n"
   ]
  },
  {
   "cell_type": "code",
   "execution_count": 21,
   "metadata": {},
   "outputs": [
    {
     "ename": "ModuleNotFoundError",
     "evalue": "No module named 'seaborn'",
     "output_type": "error",
     "traceback": [
      "\u001b[1;31m---------------------------------------------------------------------------\u001b[0m",
      "\u001b[1;31mModuleNotFoundError\u001b[0m                       Traceback (most recent call last)",
      "\u001b[1;32m~\\AppData\\Local\\Temp/ipykernel_41164/2471513229.py\u001b[0m in \u001b[0;36m<module>\u001b[1;34m\u001b[0m\n\u001b[0;32m      2\u001b[0m \u001b[1;32mimport\u001b[0m \u001b[0mpandas\u001b[0m \u001b[1;32mas\u001b[0m \u001b[0mpd\u001b[0m\u001b[1;33m\u001b[0m\u001b[1;33m\u001b[0m\u001b[0m\n\u001b[0;32m      3\u001b[0m \u001b[1;32mimport\u001b[0m \u001b[0mmatplotlib\u001b[0m\u001b[1;33m.\u001b[0m\u001b[0mpyplot\u001b[0m \u001b[1;32mas\u001b[0m \u001b[0mplt\u001b[0m\u001b[1;33m\u001b[0m\u001b[1;33m\u001b[0m\u001b[0m\n\u001b[1;32m----> 4\u001b[1;33m \u001b[1;32mimport\u001b[0m \u001b[0mseaborn\u001b[0m \u001b[1;32mas\u001b[0m \u001b[0msns\u001b[0m\u001b[1;33m\u001b[0m\u001b[1;33m\u001b[0m\u001b[0m\n\u001b[0m\u001b[0;32m      5\u001b[0m \u001b[1;32mfrom\u001b[0m \u001b[0msklearn\u001b[0m\u001b[1;33m.\u001b[0m\u001b[0mpreprocessing\u001b[0m \u001b[1;32mimport\u001b[0m \u001b[0mOneHotEncoder\u001b[0m\u001b[1;33m\u001b[0m\u001b[1;33m\u001b[0m\u001b[0m\n\u001b[0;32m      6\u001b[0m \u001b[1;32mfrom\u001b[0m \u001b[0msklearn\u001b[0m\u001b[1;33m.\u001b[0m\u001b[0mpreprocessing\u001b[0m \u001b[1;32mimport\u001b[0m \u001b[0mMultiLabelBinarizer\u001b[0m\u001b[1;33m\u001b[0m\u001b[1;33m\u001b[0m\u001b[0m\n",
      "\u001b[1;31mModuleNotFoundError\u001b[0m: No module named 'seaborn'"
     ]
    }
   ],
   "source": [
    "import numpy as np\n",
    "import pandas as pd\n",
    "import matplotlib.pyplot as plt\n",
    "from sklearn.preprocessing import OneHotEncoder\n",
    "from sklearn.preprocessing import MultiLabelBinarizer\n",
    "from sklearn.preprocessing import MinMaxScaler\n",
    "from sklearn.preprocessing import StandardScaler\n",
    "from IPython.display import display"
   ]
  },
  {
   "cell_type": "code",
   "execution_count": 3,
   "metadata": {},
   "outputs": [],
   "source": [
    "rs = 290310\n",
    "np.random.seed(rs)"
   ]
  },
  {
   "attachments": {},
   "cell_type": "markdown",
   "metadata": {},
   "source": [
    "## Ex.1 Loading and Preparing the Data\n",
    "In this section, the data will be loaded into the project and will be manipulated into a manageble format for our analysis"
   ]
  },
  {
   "cell_type": "code",
   "execution_count": 4,
   "metadata": {},
   "outputs": [],
   "source": [
    "df_path = 'data\\cla4lsp22_bikez_curated.csv'\n",
    "df_tot = pd.read_csv(df_path)\n"
   ]
  },
  {
   "cell_type": "code",
   "execution_count": 5,
   "metadata": {},
   "outputs": [],
   "source": [
    "r = np.random.randint(0,3)\n",
    "workdf = df_tot.loc[df_tot['Year']%3 == r]"
   ]
  },
  {
   "cell_type": "code",
   "execution_count": 6,
   "metadata": {},
   "outputs": [
    {
     "name": "stdout",
     "output_type": "stream",
     "text": [
      "Columns ['Rear tire' 'Front suspension'] have been dropped from the DataFrame\n"
     ]
    }
   ],
   "source": [
    "feature_to_remove = ['Front brakes',\n",
    "                     'Rear brakes', \n",
    "                     'Front tire',\n",
    "                     'Rear tire',\n",
    "                     'Front suspension',\n",
    "                     'Rear suspension']\n",
    "\n",
    "feature_to_remove = np.random.choice(feature_to_remove, \n",
    "                                     size=2,\n",
    "                                     replace = False)\n",
    "workdf = workdf.drop(columns = feature_to_remove)\n",
    "\n",
    "print('Columns', feature_to_remove, 'have been dropped from the DataFrame')\n",
    "\n"
   ]
  },
  {
   "attachments": {},
   "cell_type": "markdown",
   "metadata": {},
   "source": [
    "#### Missing values handling\n",
    "Andiamo a vedere se i missing values nelle colonne categoriche hanno una particolare label:"
   ]
  },
  {
   "cell_type": "code",
   "execution_count": 7,
   "metadata": {},
   "outputs": [],
   "source": [
    "categorical_columns = dict()\n",
    "for col in workdf.iloc[:, 5:].columns: #for each feature (hence we exclude labels)\n",
    "    if workdf[col].dtype == 'O': #if that feature is categorical\n",
    "        workdf[col] = workdf[col].str.lower()#put all the entries as lowercase (avoid case sensitive conflicts)\n",
    "        categorical_columns[col] = workdf[col].unique() #append its unique values into a dict entry"
   ]
  },
  {
   "attachments": {},
   "cell_type": "markdown",
   "metadata": {},
   "source": [
    "From a visual inspection missing categorical values are labeled as \"Not Given/Unknown\" (N.B. could also be written in lowercase \"not given/unknown\")\n",
    "\n",
    "Let's now inspect how many rows have missing values and how many missing values are there for each row."
   ]
  },
  {
   "cell_type": "code",
   "execution_count": 8,
   "metadata": {},
   "outputs": [
    {
     "data": {
      "text/plain": [
       "Text(0.5, 1.0, 'Pieplot of missing values')"
      ]
     },
     "execution_count": 8,
     "metadata": {},
     "output_type": "execute_result"
    },
    {
     "data": {
      "image/png": "[encoded data removed]",
      "text/plain": [
       "<Figure size 1080x288 with 3 Axes>"
      ]
     },
     "metadata": {
      "needs_background": "light"
     },
     "output_type": "display_data"
    }
   ],
   "source": [
    "missing_categorical = np.zeros(len(workdf)) #array containing for each row the number of missing categorical attributes \n",
    "missing_numerical = np.zeros(len(workdf)) #array containing for each row the number of missing numerical attributes\n",
    "missing_count = dict()\n",
    "for col in workdf.iloc[:, 5:].columns: #for each feature (hence we exclude labels)\n",
    "\n",
    "    if workdf[col].dtype == 'O': #if that feature is categorical\n",
    "        tmp01 = (workdf[col].str.lower()=='not given/unknown')# array indicating if the value of the column is missing\n",
    "        workdf.loc[tmp01, col] = np.nan #setting missing values as NaN\n",
    "        tmp01 = tmp01.astype(int)\n",
    "        missing_categorical = missing_categorical + tmp01\n",
    "        missing_count[col] = sum(tmp01)\n",
    "    else:\n",
    "        tmp01 = workdf[col].isna().astype(int)\n",
    "        missing_numerical = missing_numerical + tmp01\n",
    "        missing_count[col] = sum(tmp01)\n",
    "\n",
    "\n",
    "#  ------- Histogram and Pieplot -------\n",
    "\n",
    "missing = missing_categorical + missing_numerical #array containing for each row the number of missing attributes\n",
    "\n",
    "pie_label = ['None Missing', 'Missing only categorical', 'Missing only numerical', 'Missing both']\n",
    "missing_categorical_bool = missing_categorical.astype(bool) #True if row contains at least one missing categorical value\n",
    "missing_numerical_bool = missing_numerical.astype(bool) #True if row contains at least one missing numerical value\n",
    "\n",
    "none_missing = np.logical_and(np.logical_not(missing_numerical_bool), np.logical_not(missing_categorical_bool)) #True if row contais all numerical and categorical values\n",
    "missing_only_categorical = np.logical_and(missing_categorical_bool, np.logical_not(missing_numerical_bool)) #True if row misses only categorical data\n",
    "missing_only_numerical = np.logical_and(missing_numerical_bool, np.logical_not(missing_categorical_bool)) #True if row misses only numerical data\n",
    "missing_both = np.logical_and(missing_categorical_bool, missing_numerical_bool) #True if row misses both numerical and categorical data\n",
    "\n",
    "pie_data = [none_missing.sum(), missing_only_categorical.sum(), missing_only_numerical.sum(), missing_both.sum()]\n",
    "\n",
    "fig, axs= plt.subplots(1,3)\n",
    "fig.set_size_inches(15,4)\n",
    "axs[0].hist(missing)\n",
    "axs[0].set_title('Distribution of the number of missing values')\n",
    "axs[1].hist(missing, cumulative=True, density = True)\n",
    "axs[1].set_title('Cumulative Distribution of missing values')\n",
    "axs[2].pie(pie_data, labels = pie_label)\n",
    "axs[2].set_title('Pieplot of missing values')\n"
   ]
  },
  {
   "cell_type": "code",
   "execution_count": 9,
   "metadata": {},
   "outputs": [
    {
     "data": {
      "text/plain": [
       "Text(0.5, 1.0, 'Missing values for each feature')"
      ]
     },
     "execution_count": 9,
     "metadata": {},
     "output_type": "execute_result"
    },
    {
     "data": {
      "image/png": "[encoded data removed]",
      "text/plain": [
       "<Figure size 720x720 with 1 Axes>"
      ]
     },
     "metadata": {
      "needs_background": "light"
     },
     "output_type": "display_data"
    }
   ],
   "source": [
    "fig, ax = plt.subplots()\n",
    "fig.set_size_inches(10, 10)\n",
    "ax.barh(list(missing_count.keys()), missing_count.values())\n",
    "ax.set_title('Missing values for each feature')"
   ]
  },
  {
   "attachments": {},
   "cell_type": "markdown",
   "metadata": {},
   "source": [
    "idea:\n",
    "1. togliamo le righe che hanno troppi missing values;\n",
    "2. facciamo il replacement con la moda;\n",
    "3. NON facciamo il replacement sulle colonne categoriche con tanti missing values;\n",
    "4. Torque (Nm) ha praticamente tutti missing values, che sia da togliere direttamente dall'analisi?\n",
    "    "
   ]
  },
  {
   "cell_type": "code",
   "execution_count": 10,
   "metadata": {},
   "outputs": [
    {
     "name": "stdout",
     "output_type": "stream",
     "text": [
      "Rows with more than 11 missing values have been deleted. 6.24% of the data has been deleted\n",
      "Missing values in the column Displacement (ccm) have been replaced with the mean of the column: 545.7325114503816\n",
      "Missing values in the column Power (hp) have been replaced with the mean of the column: 50.74629083360646\n",
      "Missing values in the column Torque (Nm) have been replaced with the mean of the column: 63.20781434599157\n",
      "Missing values in the column Engine cylinder have been replaced with the mode of the column: single cylinder\n",
      "Missing values in the column Engine stroke have been replaced with the mode of the column:  four-stroke\n",
      "Missing values in the column Gearbox have been replaced with the mode of the column: 6-speed\n",
      "Missing values in the column Bore (mm) have been replaced with the mean of the column: 72.45040776699028\n",
      "Missing values in the column Stroke (mm) have been replaced with the mean of the column: 64.58373786407768\n",
      "Missing values in the column Fuel capacity (lts) have been replaced with the mean of the column: 13.079118071854126\n",
      "Missing values in the column Fuel control have been replaced with the value \"other\"\n",
      "Missing values in the column Cooling system have been replaced with the mode of the column: air\n",
      "Missing values in the column Transmission type have been replaced with the mode of the column: chain\n",
      "Missing values in the column Dry weight (kg) have been replaced with the mean of the column: 161.55013326564284\n",
      "Missing values in the column Wheelbase (mm) have been replaced with the mean of the column: 1417.5080442158257\n",
      "Missing values in the column Seat height (mm) have been replaced with the mean of the column: 791.6212191717078\n",
      "Missing values in the column Fuel system have been replaced with the mode of the column: carburettor\n",
      "Missing values in the column Front brakes have been replaced with the mode of the column: single disc\n",
      "Missing values in the column Rear brakes have been replaced with the mode of the column: single disc\n",
      "Missing values in the column Front tire have been replaced with the mode of the column: other\n",
      "Missing values in the column Rear suspension have been replaced with the value \"other\"\n"
     ]
    }
   ],
   "source": [
    "missing_threshold = 11 \n",
    "perc = sum(missing[missing>missing_threshold])/sum(missing)*100\n",
    "workdf = workdf[missing<=missing_threshold]\n",
    "\n",
    "print('Rows with more than', missing_threshold, 'missing values have been deleted.', f'{perc:.2f}%', 'of the data has been deleted')\n",
    "\n",
    "#workdf.drop('Torque(Nm)') #TODO #2 da vedere se droppare la colonna torque\n",
    "\n",
    "missing_threshold_perc = 0.33\n",
    "\n",
    "for col in workdf.iloc[:, 5:].columns: #for each feature column\n",
    "    if workdf[col].dtype == 'O': #if it's a categorical column\n",
    "        if missing_count[col]/len(workdf)>missing_threshold_perc: #if missing values are above a threshold\n",
    "            workdf[col] = workdf[col].fillna(value = 'other') #replace with a default value\n",
    "            print(\"Missing values in the column\", col, 'have been replaced with the value \"other\"')\n",
    "        else:\n",
    "            mode = min(workdf[col].mode())\n",
    "            workdf[col]= workdf[col].fillna(value = mode) #replace with the mode\n",
    "            #TODO #1 cosa fare quando la moda è essa stessa il valore \"other\"?\n",
    "            print(\"Missing values in the column\", col, 'have been replaced with the mode of the column:', mode)\n",
    "    else:#if the column is numerical\n",
    "        colmean=workdf[col].mean()\n",
    "        workdf[col]=workdf[col].fillna(value = colmean) #replace with the mean\n",
    "        print(\"Missing values in the column\", col, 'have been replaced with the mean of the column:', colmean)\n",
    "\n",
    "    \n"
   ]
  },
  {
   "cell_type": "code",
   "execution_count": 11,
   "metadata": {},
   "outputs": [],
   "source": [
    "#workdf['Transmission type'].fillna(value = workdf['Transmission type'].mode())\n",
    "a = min(workdf['Transmission type'].mode())"
   ]
  },
  {
   "attachments": {},
   "cell_type": "markdown",
   "metadata": {},
   "source": [
    "### Outlier analysis\n",
    "\n",
    "analisi degli outlier delle colonne numeriche\n"
   ]
  },
  {
   "cell_type": "code",
   "execution_count": 20,
   "metadata": {},
   "outputs": [
    {
     "data": {
      "text/html": [
       "<div>\n",
       "<style scoped>\n",
       "    .dataframe tbody tr th:only-of-type {\n",
       "        vertical-align: middle;\n",
       "    }\n",
       "\n",
       "    .dataframe tbody tr th {\n",
       "        vertical-align: top;\n",
       "    }\n",
       "\n",
       "    .dataframe thead th {\n",
       "        text-align: right;\n",
       "    }\n",
       "</style>\n",
       "<table border=\"1\" class=\"dataframe\">\n",
       "  <thead>\n",
       "    <tr style=\"text-align: right;\">\n",
       "      <th></th>\n",
       "      <th>Displacement (ccm)</th>\n",
       "      <th>Power (hp)</th>\n",
       "      <th>Torque (Nm)</th>\n",
       "      <th>Bore (mm)</th>\n",
       "      <th>Stroke (mm)</th>\n",
       "      <th>Fuel capacity (lts)</th>\n",
       "      <th>Dry weight (kg)</th>\n",
       "      <th>Wheelbase (mm)</th>\n",
       "      <th>Seat height (mm)</th>\n",
       "    </tr>\n",
       "  </thead>\n",
       "  <tbody>\n",
       "    <tr>\n",
       "      <th>count</th>\n",
       "      <td>13400.000000</td>\n",
       "      <td>13400.000000</td>\n",
       "      <td>13400.000000</td>\n",
       "      <td>13400.000000</td>\n",
       "      <td>13400.000000</td>\n",
       "      <td>13400.000000</td>\n",
       "      <td>13400.000000</td>\n",
       "      <td>13400.000000</td>\n",
       "      <td>13400.000000</td>\n",
       "    </tr>\n",
       "    <tr>\n",
       "      <th>mean</th>\n",
       "      <td>545.732511</td>\n",
       "      <td>50.746291</td>\n",
       "      <td>63.207814</td>\n",
       "      <td>72.450408</td>\n",
       "      <td>64.583738</td>\n",
       "      <td>13.079118</td>\n",
       "      <td>161.550133</td>\n",
       "      <td>1417.508044</td>\n",
       "      <td>791.621219</td>\n",
       "    </tr>\n",
       "    <tr>\n",
       "      <th>std</th>\n",
       "      <td>531.993158</td>\n",
       "      <td>42.809185</td>\n",
       "      <td>42.381844</td>\n",
       "      <td>16.510550</td>\n",
       "      <td>16.161480</td>\n",
       "      <td>5.479497</td>\n",
       "      <td>65.249708</td>\n",
       "      <td>140.801021</td>\n",
       "      <td>107.650357</td>\n",
       "    </tr>\n",
       "    <tr>\n",
       "      <th>min</th>\n",
       "      <td>25.000000</td>\n",
       "      <td>0.300000</td>\n",
       "      <td>1.500000</td>\n",
       "      <td>1.500000</td>\n",
       "      <td>0.000000</td>\n",
       "      <td>0.500000</td>\n",
       "      <td>15.100000</td>\n",
       "      <td>725.000000</td>\n",
       "      <td>39.000000</td>\n",
       "    </tr>\n",
       "    <tr>\n",
       "      <th>25%</th>\n",
       "      <td>125.000000</td>\n",
       "      <td>17.875000</td>\n",
       "      <td>63.207814</td>\n",
       "      <td>62.000000</td>\n",
       "      <td>55.000000</td>\n",
       "      <td>9.000000</td>\n",
       "      <td>126.000000</td>\n",
       "      <td>1370.000000</td>\n",
       "      <td>780.000000</td>\n",
       "    </tr>\n",
       "    <tr>\n",
       "      <th>50%</th>\n",
       "      <td>399.000000</td>\n",
       "      <td>50.746291</td>\n",
       "      <td>63.207814</td>\n",
       "      <td>72.450408</td>\n",
       "      <td>64.583738</td>\n",
       "      <td>13.079118</td>\n",
       "      <td>161.550133</td>\n",
       "      <td>1417.508044</td>\n",
       "      <td>791.621219</td>\n",
       "    </tr>\n",
       "    <tr>\n",
       "      <th>75%</th>\n",
       "      <td>798.000000</td>\n",
       "      <td>51.400000</td>\n",
       "      <td>63.207814</td>\n",
       "      <td>81.500000</td>\n",
       "      <td>69.000000</td>\n",
       "      <td>17.000000</td>\n",
       "      <td>161.550133</td>\n",
       "      <td>1470.000000</td>\n",
       "      <td>810.000000</td>\n",
       "    </tr>\n",
       "    <tr>\n",
       "      <th>max</th>\n",
       "      <td>8200.000000</td>\n",
       "      <td>689.000000</td>\n",
       "      <td>710.000000</td>\n",
       "      <td>176.000000</td>\n",
       "      <td>458.600000</td>\n",
       "      <td>50.000000</td>\n",
       "      <td>1000.000000</td>\n",
       "      <td>2489.000000</td>\n",
       "      <td>7501.000000</td>\n",
       "    </tr>\n",
       "  </tbody>\n",
       "</table>\n",
       "</div>"
      ],
      "text/plain": [
       "       Displacement (ccm)    Power (hp)   Torque (Nm)     Bore (mm)  \\\n",
       "count        13400.000000  13400.000000  13400.000000  13400.000000   \n",
       "mean           545.732511     50.746291     63.207814     72.450408   \n",
       "std            531.993158     42.809185     42.381844     16.510550   \n",
       "min             25.000000      0.300000      1.500000      1.500000   \n",
       "25%            125.000000     17.875000     63.207814     62.000000   \n",
       "50%            399.000000     50.746291     63.207814     72.450408   \n",
       "75%            798.000000     51.400000     63.207814     81.500000   \n",
       "max           8200.000000    689.000000    710.000000    176.000000   \n",
       "\n",
       "        Stroke (mm)  Fuel capacity (lts)  Dry weight (kg)  Wheelbase (mm)  \\\n",
       "count  13400.000000         13400.000000     13400.000000    13400.000000   \n",
       "mean      64.583738            13.079118       161.550133     1417.508044   \n",
       "std       16.161480             5.479497        65.249708      140.801021   \n",
       "min        0.000000             0.500000        15.100000      725.000000   \n",
       "25%       55.000000             9.000000       126.000000     1370.000000   \n",
       "50%       64.583738            13.079118       161.550133     1417.508044   \n",
       "75%       69.000000            17.000000       161.550133     1470.000000   \n",
       "max      458.600000            50.000000      1000.000000     2489.000000   \n",
       "\n",
       "       Seat height (mm)  \n",
       "count      13400.000000  \n",
       "mean         791.621219  \n",
       "std          107.650357  \n",
       "min           39.000000  \n",
       "25%          780.000000  \n",
       "50%          791.621219  \n",
       "75%          810.000000  \n",
       "max         7501.000000  "
      ]
     },
     "execution_count": 20,
     "metadata": {},
     "output_type": "execute_result"
    }
   ],
   "source": [
    "num_features = workdf.iloc[:, 5:].select_dtypes(np.number).columns #numerical features in the df\n",
    "workdf[num_features].describe()\n",
    "#TODO #3 outlier detection"
   ]
  },
  {
   "cell_type": "markdown",
   "metadata": {},
   "source": []
  },
  {
   "attachments": {},
   "cell_type": "markdown",
   "metadata": {},
   "source": [
    "## Ex.2 Encoding of categorical data\n",
    "\n",
    "Visualizziamo le features categoriche e di conseguenza prendiamo decisioni\n"
   ]
  },
  {
   "cell_type": "code",
   "execution_count": 12,
   "metadata": {},
   "outputs": [
    {
     "data": {
      "text/plain": [
       "{'Engine cylinder': array(['in-line four', 'single cylinder', 'twin', 'electric', 'v2',\n",
       "        'four cylinder boxer', 'not given/unknown', 'v4', 'diesel',\n",
       "        'square four cylinder', 'v8', 'in-line six', 'in-line three',\n",
       "        'two cylinder boxer', 'v6', 'single disc wankel',\n",
       "        'six cylinder boxer', 'v3', 'gas turbine', 'dual disc wankel',\n",
       "        'radial'], dtype=object),\n",
       " 'Engine stroke': array([' four-stroke', 'electric', ' two-stroke', 'not given/unknown',\n",
       "        'diesel', 'square four cylinder', 'single disc wankel',\n",
       "        'gas turbine', 'dual disc wankel', 'radial'], dtype=object),\n",
       " 'Gearbox': array(['6-speed', 'automatic', '5-speed', 'not given/unknown', '1-speed',\n",
       "        '3-speed', '4-speed', '7-speed', '2-speed', '4-speed with reverse',\n",
       "        '10-speed', '5-speed with reverse', '3-speed automatic',\n",
       "        '2-speed automatic', '100-speed'], dtype=object),\n",
       " 'Fuel control': array(['not given/unknown', 'overhead valves (ohv)',\n",
       "        'overhead cams (ohc)', 'single overhead cams (sohc)',\n",
       "        'double overhead cams/twin cam (dohc)', 'port control',\n",
       "        'rotary valves', 'membrane & variable discharge openings',\n",
       "        'membrane', 'desmodromic valve control', 'sidevalves',\n",
       "        'standing valves', 'pushrods',\n",
       "        'rotary valves & variable discharge openings',\n",
       "        'membrane & power valve'], dtype=object),\n",
       " 'Cooling system': array(['liquid', 'air', 'not given/unknown', 'oil & air'], dtype=object),\n",
       " 'Transmission type': array(['not given/unknown', 'chain', 'belt', 'shaft drive'], dtype=object),\n",
       " 'Fuel system': array(['other', 'carburettor', 'efi. injection', 'not given/unknown',\n",
       "        'injection', 'carburettor. other', 'efi. carburettor',\n",
       "        'injection. other'], dtype=object),\n",
       " 'Front brakes': array(['not given/unknown', 'single disc', 'expanding brake (drum brake)',\n",
       "        'single disc. other', 'double disc',\n",
       "        'hydraulic. single disc. other',\n",
       "        'expanding brake (drum brake). other', 'hydraulic. double disc',\n",
       "        'expanding brake', 'double disc. other',\n",
       "        'floating discs. double disc', 'brembo. single disc', 'dual disc',\n",
       "        'abs. double disc', 'abs. double disc. other',\n",
       "        'brembo. double disc. other', 'abs. single disc. other',\n",
       "        'brembo. abs. double disc', 'brembo. double disc',\n",
       "        'two-piston calipers. floating discs. double disc. other',\n",
       "        'hydraulic. single disc', 'abs. single disc',\n",
       "        'four-piston calipers. double disc. other',\n",
       "        'four-piston calipers. abs. double disc',\n",
       "        'floating discs. four-piston calipers. double disc. other',\n",
       "        'hydraulic. double disc. other',\n",
       "        'four-piston calipers. single disc. other',\n",
       "        'two-piston calipers. floating discs. abs. single disc',\n",
       "        'two-piston calipers. floating discs. abs. single disc. other',\n",
       "        'two-piston calipers. floating discs. abs. double disc. other',\n",
       "        'floating discs. abs. double disc. other',\n",
       "        'two-piston calipers. single disc. other',\n",
       "        'floating discs. four-piston calipers. abs. double disc',\n",
       "        'floating discs. four-piston calipers. abs. double disc. other',\n",
       "        'four-piston calipers. abs. single disc. other',\n",
       "        'two-piston calipers. floating discs. single disc. other',\n",
       "        'four-piston calipers. abs. double disc. other',\n",
       "        'two-piston calipers. double disc. other', 'other',\n",
       "        'two-piston calipers. abs. single disc. other',\n",
       "        'brembo. four-piston calipers. abs. double disc. other',\n",
       "        'brembo. floating discs. four-piston calipers. abs. double disc. other',\n",
       "        'brembo. abs. double disc. other',\n",
       "        'brembo. floating discs. four-piston calipers. abs. double disc',\n",
       "        'floating discs. single disc. other',\n",
       "        'two-piston calipers. abs. single disc',\n",
       "        'four-piston calipers. abs. single disc',\n",
       "        'floating discs. four-piston calipers. single disc. other',\n",
       "        'brembo. floating discs. four-piston calipers. double disc. other',\n",
       "        'two-piston calipers. abs. double disc. other',\n",
       "        'hydraulic. abs. double disc',\n",
       "        'two-piston calipers. hydraulic. double disc. other',\n",
       "        'two-piston calipers. abs. double disc',\n",
       "        'two-piston calipers. hydraulic. single disc. other',\n",
       "        'floating discs. abs. double disc',\n",
       "        'floating discs. double disc. other',\n",
       "        'two-piston calipers. hydraulic. abs. single disc. other',\n",
       "        'four-piston calipers. hydraulic. single disc. other',\n",
       "        'two-piston calipers. hydraulic. abs. single disc',\n",
       "        'four-piston calipers. hydraulic. double disc. other',\n",
       "        'floating discs. four-piston calipers. abs. single disc. other',\n",
       "        'hydraulic. abs. single disc. other',\n",
       "        'floating discs. four-piston calipers. hydraulic. abs. double disc. other',\n",
       "        'brembo. four-piston calipers. abs. single disc. other',\n",
       "        'two-piston calipers. hydraulic. other',\n",
       "        'two-piston calipers. hydraulic. single disc',\n",
       "        'brembo. floating discs. double disc. other',\n",
       "        'brembo. four-piston calipers. abs. double disc',\n",
       "        'brembo. four-piston calipers. single disc. other',\n",
       "        'two-piston calipers. floating discs. abs. double disc',\n",
       "        'two-piston calipers. floating discs. hydraulic. double disc. other',\n",
       "        'hydraulic. abs. single disc',\n",
       "        'hydraulic. expanding brake (drum brake)',\n",
       "        'abs. expanding brake (drum brake)', 'brembo. abs. single disc',\n",
       "        'brembo. floating discs. abs. double disc. other',\n",
       "        'floating discs. abs. single disc. other',\n",
       "        'brembo. single disc. other', 'hydraulic. abs. double disc. other',\n",
       "        'brembo. hydraulic. double disc',\n",
       "        'four-piston calipers. hydraulic. abs. double disc. other'],\n",
       "       dtype=object),\n",
       " 'Rear brakes': array(['not given/unknown', 'single disc', 'expanding brake (drum brake)',\n",
       "        'single disc. other', 'hydraulic. single disc. other', 'hydraulic',\n",
       "        'expanding brake (drum brake). other', 'expanding brake',\n",
       "        'single-piston caliper. single disc', 'brembo. single disc',\n",
       "        'abs. single disc', 'abs. single disc. other',\n",
       "        'brembo. single disc. other', 'brembo. abs. single disc',\n",
       "        'hydraulic. single disc',\n",
       "        'single-piston caliper. single disc. other',\n",
       "        'single-piston caliper. abs. single disc',\n",
       "        'two-piston calipers. single disc. other',\n",
       "        'floating disc. two-piston calipers. abs. single disc',\n",
       "        'floating disc. two-piston calipers. abs. single disc. other',\n",
       "        'floating disc. two-piston calipers. abs. other',\n",
       "        'floating disc. abs. single disc. other',\n",
       "        'floating disc. single-piston caliper. single disc. other',\n",
       "        'floating disc. single-piston caliper. abs. single disc. other',\n",
       "        'floating disc. single-piston caliper. abs. single disc',\n",
       "        'floating disc. two-piston calipers. single disc. other',\n",
       "        'two-piston calipers. abs. single disc. other',\n",
       "        'two-piston calipers. abs. single disc', 'other',\n",
       "        'brembo. floating disc. two-piston calipers. abs. single disc. other',\n",
       "        'brembo. floating disc. single-piston caliper. abs. single disc. other',\n",
       "        'brembo. abs. single disc. other',\n",
       "        'brembo. two-piston calipers. abs. single disc', 'abs',\n",
       "        'floating disc. single disc',\n",
       "        'single-piston caliper. expanding brake (drum brake). other',\n",
       "        'single-piston caliper. abs. single disc. other',\n",
       "        'brembo. single-piston caliper. single disc. other',\n",
       "        'single-piston caliper. hydraulic. single disc. other',\n",
       "        'single-piston caliper. hydraulic. abs. single disc. other',\n",
       "        'two-piston calipers. hydraulic. single disc. other',\n",
       "        'two-piston calipers. hydraulic. abs. single disc',\n",
       "        'abs. expanding brake (drum brake)',\n",
       "        'two-piston calipers. hydraulic. abs. single disc. other',\n",
       "        'floating disc. single disc. other',\n",
       "        'two-piston calipers. single disc',\n",
       "        'two-piston calipers. hydraulic. single disc',\n",
       "        'brembo. floating disc. single-piston caliper. single disc. other',\n",
       "        'hydraulic. abs. single disc',\n",
       "        'hydraulic. expanding brake (drum brake)',\n",
       "        'brembo. expanding brake (drum brake)', 'hydraulic. other',\n",
       "        'hydraulic. abs. single disc. other'], dtype=object),\n",
       " 'Front tire': array(['other', '25/8-12', '120/70-12', '90/90-21', '100/80-17',\n",
       "        '110/70-17', '120/70-17', '80/100-21', '100/90-19', '100/90-18'],\n",
       "       dtype=object),\n",
       " 'Rear suspension': array(['not given/unknown', 'other', 'swing arm', 'single shock',\n",
       "        'twin shocks', 'dual shocks', 'monoshock', 'swing arm. other',\n",
       "        'monoshock. other', 'twin shocks. other',\n",
       "        'link type, coil spring, oil damped', 'monoshock. swing arm',\n",
       "        'link type, coil spring, oil damped. other'], dtype=object)}"
      ]
     },
     "metadata": {},
     "output_type": "display_data"
    }
   ],
   "source": [
    "display(categorical_columns)"
   ]
  },
  {
   "attachments": {},
   "cell_type": "markdown",
   "metadata": {},
   "source": [
    "Notiamo che tutte le feature categoriche hanno un normale encoding tranne le colonne \"Front brakes\" e \"Rear brakes\" che utilizzano il particolare encoding $\\alpha . \\beta \\dots$\n",
    "\n",
    "Usiamo il one-hot encoding perché le feature categoriche non hanno un ordinamento intrinseco quindi non possiamo enumerare le caratteristiche (evitiamo di generare un ordinamento fittizio delle features)"
   ]
  },
  {
   "cell_type": "code",
   "execution_count": 13,
   "metadata": {},
   "outputs": [],
   "source": [
    "workdf_encoded = workdf.iloc[:, :5]\n",
    "\n",
    "for col in workdf.iloc[:, 5:].columns: #for each feature column\n",
    "    if workdf[col].dtype == 'O': #if that feature is categorical\n",
    "        if col == 'Front brakes' or col=='Rear brakes': #if that feature requires special encoding\n",
    "            workdf[col]=[entry.split(sep='. ') for entry in workdf[col]]#split every entry into list of categories\n",
    "            mlb = MultiLabelBinarizer(sparse_output=True)#initialize a multilabel binarizer\n",
    "            mlb_df = pd.DataFrame.sparse.from_spmatrix(mlb.fit_transform(workdf[col]), #perform the multilabel encoding\n",
    "                                                       index = workdf_encoded.index,\n",
    "                                                       columns=[col + '_' + c for c in mlb.classes_])#generate a dataframe from the encoding\n",
    "            workdf_encoded=workdf_encoded.join(mlb_df)#join the encoded df with the encoding dataframe                \n",
    "        else:#if that feature doesn't require special encoding\n",
    "          workdf_encoded = workdf_encoded.join(pd.get_dummies(workdf[col], prefix=col))#join the result of pd.get_dummies with the encoding df\n",
    "    else:#if the feature is numerical\n",
    "        workdf_encoded = workdf_encoded.join(workdf[col])#simply join it in the encoded df without performing encoding"
   ]
  },
  {
   "cell_type": "code",
   "execution_count": 14,
   "metadata": {},
   "outputs": [],
   "source": [
    "Xworkdf = workdf_encoded.iloc[:, 5:]"
   ]
  },
  {
   "attachments": {},
   "cell_type": "markdown",
   "metadata": {},
   "source": [
    "## Ex.3 Preprocessing and PCA"
   ]
  },
  {
   "cell_type": "code",
   "execution_count": 62,
   "metadata": {},
   "outputs": [
    {
     "data": {
      "image/png": "[encoded data removed]",
      "text/plain": [
       "<Figure size 1440x360 with 1 Axes>"
      ]
     },
     "metadata": {
      "needs_background": "light"
     },
     "output_type": "display_data"
    }
   ],
   "source": [
    "data_mat = Xworkdf.to_numpy()\n",
    "\n",
    "scaler_mm = MinMaxScaler()\n",
    "Xworkdf_mm = pd.DataFrame(scaler_mm.fit_transform(data_mat), index=Xworkdf.index, columns=Xworkdf.columns)\n",
    "\n",
    "scaler_std = StandardScaler()\n",
    "Xworkdf_std = pd.DataFrame(scaler_std.fit_transform(data_mat), index=Xworkdf.index, columns=Xworkdf.columns)\n",
    "\n",
    "# variance comparison of numerical features\n",
    "\n",
    "var_numerical = np.array(Xworkdf[num_features].var())\n",
    "var_numerical_mm = np.array(Xworkdf_mm[num_features].var())\n",
    "var_numerical_std = np.array(Xworkdf_std[num_features].var())\n",
    "\n",
    "fig, ax = plt.subplots()\n",
    "fig.set_size_inches(20, 5)\n",
    "ax.grid(True, axis='y', linestyle='--')\n",
    "labels = [l for l in num_features]\n",
    "X_axis = np.arange(len(num_features))\n",
    "bar1 = ax.bar(X_axis-0.2, var_numerical, 0.2, label = 'No scaler')\n",
    "bar2 = ax.bar(X_axis, var_numerical_mm, 0.2, label = 'min-max scaler')\n",
    "bar3 = ax.bar(X_axis+0.2, var_numerical_std, 0.2, label = 'std scaler')\n",
    "\n",
    "ax.set_ylabel('Variance')\n",
    "ax.set_yscale('log')\n",
    "ax.set_title('Variance comparison between scalers')\n",
    "ax.set_xlabel('Numerical features')\n",
    "ax.set_xticks(X_axis)\n",
    "ax.set_xticklabels(labels)\n",
    "\n",
    "ax.legend()\n",
    "#ax.bar_label(bar1, padding=2)\n",
    "#ax.bar_label(bar2, padding=2)\n",
    "\n",
    "plt.show()\n",
    "\n"
   ]
  },
  {
   "attachments": {},
   "cell_type": "markdown",
   "metadata": {},
   "source": [
    "##### TODO commentare "
   ]
  },
  {
   "attachments": {},
   "cell_type": "markdown",
   "metadata": {},
   "source": [
    "\n",
    ".\n",
    "\n",
    "\n",
    "\n",
    "\n",
    "\n",
    "\n",
    "\n",
    "\n",
    "\n",
    "\n",
    "\n",
    "\n",
    "\n",
    "\n",
    "\n",
    "\n",
    "\n",
    "\n",
    "\n",
    "\n",
    "# ------ CODICE DI TEST------"
   ]
  },
  {
   "cell_type": "code",
   "execution_count": 121,
   "metadata": {},
   "outputs": [
    {
     "name": "stdout",
     "output_type": "stream",
     "text": [
      "Couldn't find program: 'false'\n"
     ]
    }
   ],
   "source": [
    "%%script false --no-raise-error\n",
    "\n",
    "#USATO PER FARE IL MULTILABEL ENCODING-------------NON SERVE PIù\n",
    "def smart_onehot(data, idx=None, feature_name=None, sep=None):\n",
    "    \"\"\"\n",
    "    Performs one-hot encoding when multiple categories are featured in each row\n",
    "    Arguments:\n",
    "        data: the dataframe column you want to encode\n",
    "        feature_name: the name of the column\n",
    "        sep: char separating multiple categories in each row\n",
    "    Returns:\n",
    "        A dataframe encoded with unique values as they appear in each row\n",
    "\n",
    "    \"\"\"\n",
    "    feature_name = feature_name+'_'\n",
    "    \n",
    "    categories = data.unique() #array containing all unique categories as they appear in data\n",
    "    categories_unique = np.array([]) #array that will contain only unique categories\n",
    "\n",
    "    for c in categories:#for each category in the data\n",
    "        for k in c.split(sep):#extract all the sub-categories and for each one\n",
    "            categories_unique = np.append(categories_unique, k) #append it into the categories_unique array\n",
    "    categories_unique = np.unique(categories_unique)#then extract the unique values from that array\n",
    "\n",
    "    enc_matrix = np.zeros([len(data), len(categories_unique)]) #the encoding matrix\n",
    "    enc_df = pd.DataFrame(enc_matrix, index = idx, columns=[feature_name+c for c in categories_unique]) #the resulting dataframe with the right column names (and prefix)\n",
    "\n",
    "    i=0\n",
    "    for r in data: #for each row of the column we are encoding\n",
    "        for category in r.split(sep): #for each category we find inside the row\n",
    "            enc_df.iloc[i].at[feature_name + category] = 1 #put to 1 the corresponding value in the encoding matrix\n",
    "        i=i+1\n",
    "    \n",
    "    return enc_df"
   ]
  },
  {
   "cell_type": "code",
   "execution_count": 122,
   "metadata": {},
   "outputs": [
    {
     "name": "stdout",
     "output_type": "stream",
     "text": [
      "Couldn't find program: 'false'\n"
     ]
    }
   ],
   "source": [
    "%%script false --no-raise-error\n",
    "\n",
    "#USATO PER FARE IL MULTILABEL ENCODING, NON SERVE PIù\n",
    "workdf_encoded = workdf.iloc[:, :5]\n",
    "\n",
    "for col in workdf.iloc[:, 5:].columns: #for each feature column\n",
    "    if workdf[col].dtype == 'O': #if that feature is categorical\n",
    "        if col == 'Front brakes' or col=='Rear brakes': #if that feature requires special encoding\n",
    "            df_tmp = smart_onehot(workdf[col], idx=workdf.index, feature_name=col, sep='. ')#perform the special encoding            \n",
    "            workdf_encoded = workdf_encoded.join(df_tmp) #join the special encoding with the encoding df     \n",
    "        else:#if that features doesn't require special encoding\n",
    "          workdf_encoded = workdf_encoded.join(pd.get_dummies(workdf[col], prefix=col))#join the result of pd.get_dummies with the encoding df\n",
    "    else:#if the feature is numerical\n",
    "        workdf_encoded = workdf_encoded.join(workdf[col])#simply join it in the encoded df without performing encoding\n"
   ]
  },
  {
   "cell_type": "code",
   "execution_count": null,
   "metadata": {},
   "outputs": [],
   "source": []
  },
  {
   "cell_type": "code",
   "execution_count": 123,
   "metadata": {},
   "outputs": [
    {
     "data": {
      "text/plain": [
       "['single disc', 'other']"
      ]
     },
     "metadata": {},
     "output_type": "display_data"
    },
    {
     "data": {
      "text/plain": [
       "0"
      ]
     },
     "metadata": {},
     "output_type": "display_data"
    },
    {
     "data": {
      "text/plain": [
       "Brand                                big dog\n",
       "Model                                    k-9\n",
       "Year                                    2010\n",
       "Category                    Custom / cruiser\n",
       "Rating                                   NaN\n",
       "Displacement (ccm)                    1917.0\n",
       "Power (hp)                         50.746291\n",
       "Torque (Nm)                        63.207814\n",
       "Engine cylinder                           v2\n",
       "Engine stroke                    four-stroke\n",
       "Gearbox                              6-speed\n",
       "Bore (mm)                              104.8\n",
       "Stroke (mm)                            111.1\n",
       "Fuel capacity (lts)                     16.6\n",
       "Fuel control           overhead valves (ohv)\n",
       "Cooling system                           air\n",
       "Transmission type                       belt\n",
       "Dry weight (kg)                        318.0\n",
       "Wheelbase (mm)                        2083.0\n",
       "Seat height (mm)                       616.0\n",
       "Fuel system               carburettor. other\n",
       "Front brakes            [single disc, other]\n",
       "Rear brakes             [single disc, other]\n",
       "Front tire                             other\n",
       "Rear suspension                        other\n",
       "Name: 2958, dtype: object"
      ]
     },
     "metadata": {},
     "output_type": "display_data"
    }
   ],
   "source": [
    "display(workdf.iloc[1014].at['Rear brakes'])\n",
    "display(workdf_encoded.iloc[1014].at['Rear brakes_floating disc'])\n",
    "\n",
    "display(workdf.iloc[1014])\n",
    "df1014 = workdf_encoded.iloc[1014]"
   ]
  },
  {
   "cell_type": "code",
   "execution_count": 124,
   "metadata": {},
   "outputs": [
    {
     "data": {
      "text/html": [
       "<div>\n",
       "<style scoped>\n",
       "    .dataframe tbody tr th:only-of-type {\n",
       "        vertical-align: middle;\n",
       "    }\n",
       "\n",
       "    .dataframe tbody tr th {\n",
       "        vertical-align: top;\n",
       "    }\n",
       "\n",
       "    .dataframe thead th {\n",
       "        text-align: right;\n",
       "    }\n",
       "</style>\n",
       "<table border=\"1\" class=\"dataframe\">\n",
       "  <thead>\n",
       "    <tr style=\"text-align: right;\">\n",
       "      <th></th>\n",
       "      <th>Feature 1</th>\n",
       "      <th>Feature 2</th>\n",
       "    </tr>\n",
       "  </thead>\n",
       "  <tbody>\n",
       "    <tr>\n",
       "      <th>0</th>\n",
       "      <td>A</td>\n",
       "      <td>a</td>\n",
       "    </tr>\n",
       "    <tr>\n",
       "      <th>1</th>\n",
       "      <td>B</td>\n",
       "      <td>b</td>\n",
       "    </tr>\n",
       "    <tr>\n",
       "      <th>2</th>\n",
       "      <td>A. B</td>\n",
       "      <td>a</td>\n",
       "    </tr>\n",
       "    <tr>\n",
       "      <th>3</th>\n",
       "      <td>A</td>\n",
       "      <td>a. c. b</td>\n",
       "    </tr>\n",
       "    <tr>\n",
       "      <th>4</th>\n",
       "      <td>C</td>\n",
       "      <td>c</td>\n",
       "    </tr>\n",
       "    <tr>\n",
       "      <th>5</th>\n",
       "      <td>C. A</td>\n",
       "      <td>c</td>\n",
       "    </tr>\n",
       "  </tbody>\n",
       "</table>\n",
       "</div>"
      ],
      "text/plain": [
       "  Feature 1 Feature 2\n",
       "0         A         a\n",
       "1         B         b\n",
       "2      A. B         a\n",
       "3         A   a. c. b\n",
       "4         C         c\n",
       "5      C. A         c"
      ]
     },
     "metadata": {},
     "output_type": "display_data"
    },
    {
     "data": {
      "text/html": [
       "<div>\n",
       "<style scoped>\n",
       "    .dataframe tbody tr th:only-of-type {\n",
       "        vertical-align: middle;\n",
       "    }\n",
       "\n",
       "    .dataframe tbody tr th {\n",
       "        vertical-align: top;\n",
       "    }\n",
       "\n",
       "    .dataframe thead th {\n",
       "        text-align: right;\n",
       "    }\n",
       "</style>\n",
       "<table border=\"1\" class=\"dataframe\">\n",
       "  <thead>\n",
       "    <tr style=\"text-align: right;\">\n",
       "      <th></th>\n",
       "      <th>Feature 1</th>\n",
       "      <th>Feature 2</th>\n",
       "    </tr>\n",
       "  </thead>\n",
       "  <tbody>\n",
       "    <tr>\n",
       "      <th>0</th>\n",
       "      <td>[A]</td>\n",
       "      <td>a</td>\n",
       "    </tr>\n",
       "    <tr>\n",
       "      <th>1</th>\n",
       "      <td>[B]</td>\n",
       "      <td>b</td>\n",
       "    </tr>\n",
       "    <tr>\n",
       "      <th>2</th>\n",
       "      <td>[A, B]</td>\n",
       "      <td>a</td>\n",
       "    </tr>\n",
       "    <tr>\n",
       "      <th>3</th>\n",
       "      <td>[A]</td>\n",
       "      <td>a. c. b</td>\n",
       "    </tr>\n",
       "    <tr>\n",
       "      <th>4</th>\n",
       "      <td>[C]</td>\n",
       "      <td>c</td>\n",
       "    </tr>\n",
       "    <tr>\n",
       "      <th>5</th>\n",
       "      <td>[C, A]</td>\n",
       "      <td>c</td>\n",
       "    </tr>\n",
       "  </tbody>\n",
       "</table>\n",
       "</div>"
      ],
      "text/plain": [
       "  Feature 1 Feature 2\n",
       "0       [A]         a\n",
       "1       [B]         b\n",
       "2    [A, B]         a\n",
       "3       [A]   a. c. b\n",
       "4       [C]         c\n",
       "5    [C, A]         c"
      ]
     },
     "metadata": {},
     "output_type": "display_data"
    },
    {
     "data": {
      "text/plain": [
       "array([[1, 0, 0],\n",
       "       [0, 1, 0],\n",
       "       [1, 1, 0],\n",
       "       [1, 0, 0],\n",
       "       [0, 0, 1],\n",
       "       [1, 0, 1]])"
      ]
     },
     "execution_count": 124,
     "metadata": {},
     "output_type": "execute_result"
    }
   ],
   "source": [
    "## TEST DI ENCODING PARTICOLARE  SMART ONE-HOT##\n",
    "from sklearn.preprocessing import MultiLabelBinarizer\n",
    "test = pd.DataFrame(\n",
    "    {\n",
    "        \"Feature 1\": ['A', 'B', 'A. B', 'A', 'C', 'C. A'],\n",
    "        \"Feature 2\": ['a', 'b', 'a', 'a. c. b', 'c', 'c']\n",
    "    }\n",
    ")\n",
    "display(test)\n",
    "\n",
    "test['Feature 1']=[entry.split(sep='. ') for entry in test['Feature 1']]\n",
    "display(test)\n",
    "\n",
    "mlb = MultiLabelBinarizer(sparse_output=False)\n",
    "mlb.fit_transform(test['Feature 1'])\n",
    "# categories = test['Feature 1'].unique()\n",
    "# categories_unique = np.array([])\n",
    "# for c in categories:\n",
    "#     for k in c.split('. '):\n",
    "#         categories_unique = np.append(categories_unique, k)\n",
    "# categories_unique = np.unique(categories_unique)\n",
    "# display(categories_unique) #un array delle categorie uniche\n",
    "\n",
    "# enc_matrix = np.zeros([len(test), len(categories_unique)])\n",
    "# enc_df = pd.DataFrame(enc_matrix, columns=['Feature 1_'+c for c in categories_unique])\n",
    "\n",
    "\n",
    "# i = 0\n",
    "# for r in test['Feature 1']:# for each row of the colum we are encoding\n",
    "#     for category in r.split('. '): #for each category we find inside the row\n",
    "#         enc_df.loc[i].at['Feature 1_'+category] = 1 #put to 1 the corresponding value in the encoding matrix \n",
    "#     i = i+1\n",
    "\n",
    "# display(enc_df)\n",
    "\n",
    "# #enc_df contiene l'encoding della colonna 'feature 1' \n",
    "\n"
   ]
  },
  {
   "cell_type": "code",
   "execution_count": 125,
   "metadata": {},
   "outputs": [
    {
     "data": {
      "text/plain": [
       "array(['A', 'B', 'C'], dtype='<U1')"
      ]
     },
     "execution_count": 125,
     "metadata": {},
     "output_type": "execute_result"
    }
   ],
   "source": [
    "\n",
    "np.array(['A', 'B', 'C']).T"
   ]
  }
 ],
 "metadata": {
  "kernelspec": {
   "display_name": "Python 3",
   "language": "python",
   "name": "python3"
  },
  "language_info": {
   "codemirror_mode": {
    "name": "ipython",
    "version": 3
   },
   "file_extension": ".py",
   "mimetype": "text/x-python",
   "name": "python",
   "nbconvert_exporter": "python",
   "pygments_lexer": "ipython3",
   "version": "3.9.6"
  },
  "orig_nbformat": 4,
  "vscode": {
   "interpreter": {
    "hash": "25f08c7b3fae6a7f4c1c6807d0bfb3a94540b6919ec42402396b397047eb57cb"
   }
  }
 },
 "nbformat": 4,
 "nbformat_minor": 2
}
