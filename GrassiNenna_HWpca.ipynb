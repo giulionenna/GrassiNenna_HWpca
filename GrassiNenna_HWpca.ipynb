{
 "cells": [
  {
   "attachments": {},
   "cell_type": "markdown",
   "metadata": {},
   "source": [
    "### 1 . Preparation\n",
    "In this section, packages will be imported and the random seed will be set.\n"
   ]
  },
  {
   "cell_type": "code",
   "execution_count": 4,
   "metadata": {},
   "outputs": [],
   "source": [
    "import numpy as np\n",
    "import pandas as pd"
   ]
  },
  {
   "cell_type": "code",
   "execution_count": 2,
   "metadata": {},
   "outputs": [],
   "source": [
    "rs = 290310\n",
    "np.random.seed(rs)"
   ]
  },
  {
   "attachments": {},
   "cell_type": "markdown",
   "metadata": {},
   "source": [
    "### 2. Loading and Preparing the Data\n",
    "In this section, the data will be loaded into the project and will be manipulated into a manageble format for our analysis"
   ]
  },
  {
   "cell_type": "code",
   "execution_count": 23,
   "metadata": {},
   "outputs": [],
   "source": [
    "df_path = 'data\\cla4lsp22_bikez_curated.csv'\n",
    "df_tot = pd.read_csv(df_path)\n"
   ]
  },
  {
   "cell_type": "code",
   "execution_count": 24,
   "metadata": {},
   "outputs": [],
   "source": [
    "r = np.random.randint(0,3)\n",
    "workdf = df_tot.loc[df_tot['Year']%3 == r]"
   ]
  },
  {
   "cell_type": "code",
   "execution_count": 39,
   "metadata": {},
   "outputs": [
    {
     "name": "stdout",
     "output_type": "stream",
     "text": [
      "columns ['Front suspension' 'Front brakes'] have been dropped from the DataFrame\n"
     ]
    }
   ],
   "source": [
    "feature_to_remove = ['Front brakes',\n",
    "                     'Rear brakes', \n",
    "                     'Front tire',\n",
    "                     'Rear tire',\n",
    "                     'Front suspension',\n",
    "                     'Rear suspension']\n",
    "\n",
    "feature_to_remove = np.random.choice(feature_to_remove, \n",
    "                                     size=2,\n",
    "                                     replace = False)\n",
    "workdf = workdf.drop(columns = feature_to_remove)\n",
    "\n",
    "print('Columns', feature_to_remove, 'have been dropped from the DataFrame')\n",
    "\n"
   ]
  }
 ],
 "metadata": {
  "kernelspec": {
   "display_name": "Python 3.10.7 64-bit",
   "language": "python",
   "name": "python3"
  },
  "language_info": {
   "codemirror_mode": {
    "name": "ipython",
    "version": 3
   },
   "file_extension": ".py",
   "mimetype": "text/x-python",
   "name": "python",
   "nbconvert_exporter": "python",
   "pygments_lexer": "ipython3",
   "version": "3.10.7"
  },
  "orig_nbformat": 4,
  "vscode": {
   "interpreter": {
    "hash": "369f2c481f4da34e4445cda3fffd2e751bd1c4d706f27375911949ba6bb62e1c"
   }
  }
 },
 "nbformat": 4,
 "nbformat_minor": 2
}
