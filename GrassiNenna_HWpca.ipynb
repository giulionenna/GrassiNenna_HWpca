{
 "cells": [
  {
   "attachments": {},
   "cell_type": "markdown",
   "metadata": {},
   "source": [
    "### 1 . Preparation\n",
    "In this section, packages will be imported and the random seed will be set.\n"
   ]
  },
  {
   "cell_type": "code",
   "execution_count": 101,
   "metadata": {},
   "outputs": [],
   "source": [
    "import numpy as np\n",
    "import pandas as pd"
   ]
  },
  {
   "cell_type": "code",
   "execution_count": 102,
   "metadata": {},
   "outputs": [],
   "source": [
    "rs = 290310\n",
    "np.random.seed(rs)"
   ]
  },
  {
   "attachments": {},
   "cell_type": "markdown",
   "metadata": {},
   "source": [
    "### 2. Loading and Preparing the Data\n",
    "In this section, the data will be loaded into the project and will be manipulated into a manageble format for our analysis"
   ]
  },
  {
   "cell_type": "code",
   "execution_count": 103,
   "metadata": {},
   "outputs": [],
   "source": [
    "df_path = 'data\\cla4lsp22_bikez_curated.csv'\n",
    "df_tot = pd.read_csv(df_path)\n"
   ]
  },
  {
   "cell_type": "code",
   "execution_count": 104,
   "metadata": {},
   "outputs": [],
   "source": [
    "r = np.random.randint(0,3)\n",
    "workdf = df_tot.loc[df_tot['Year']%3 == r]"
   ]
  },
  {
   "cell_type": "code",
   "execution_count": 105,
   "metadata": {},
   "outputs": [
    {
     "name": "stdout",
     "output_type": "stream",
     "text": [
      "Columns ['Rear tire' 'Front suspension'] have been dropped from the DataFrame\n"
     ]
    }
   ],
   "source": [
    "feature_to_remove = ['Front brakes',\n",
    "                     'Rear brakes', \n",
    "                     'Front tire',\n",
    "                     'Rear tire',\n",
    "                     'Front suspension',\n",
    "                     'Rear suspension']\n",
    "\n",
    "feature_to_remove = np.random.choice(feature_to_remove, \n",
    "                                     size=2,\n",
    "                                     replace = False)\n",
    "workdf = workdf.drop(columns = feature_to_remove)\n",
    "\n",
    "print('Columns', feature_to_remove, 'have been dropped from the DataFrame')\n",
    "\n"
   ]
  },
  {
   "attachments": {},
   "cell_type": "markdown",
   "metadata": {},
   "source": [
    "#### Missing values handling\n",
    "Andiamo a vedere se i missing values nelle colonne categoriche hanno una particolare label:"
   ]
  },
  {
   "cell_type": "code",
   "execution_count": 106,
   "metadata": {},
   "outputs": [],
   "source": [
    "categorical_columns = dict()\n",
    "for col in workdf.iloc[:, 5:].columns: #for each feature (hence we exclude labels)\n",
    "    if workdf[col].dtype == 'O': #if that feature is categorical\n",
    "        categorical_columns[col] = workdf[col].unique() #append its unique values into a dict entry"
   ]
  },
  {
   "attachments": {},
   "cell_type": "markdown",
   "metadata": {},
   "source": [
    "From a visual inspection missing categorical values are labeled as \"Not Given/Unknown\" (N.B. could also be written in lowercase \"not given/unknown\")\n",
    "\n",
    "Let's now inspect how many rows have missing values and how many missing values are there for each row."
   ]
  },
  {
   "cell_type": "code",
   "execution_count": 114,
   "metadata": {},
   "outputs": [],
   "source": [
    "missing = np.zeros(len(workdf))\n",
    "for col in workdf.iloc[:, 5:].columns: #for each feature (hence we exclude labels)\n",
    "\n",
    "    if workdf[col].dtype == 'O': #if that feature is categorical\n",
    "        tmp01 = (workdf[col].str.lower()=='not given/unknown').astype(int) # 0-1 array indicating if the value of the column is missing\n",
    "        missing = missing + tmp01\n",
    "    else:\n",
    "        missing = missing + workdf[col].isna().astype(int)"
   ]
  },
  {
   "cell_type": "code",
   "execution_count": 120,
   "metadata": {},
   "outputs": [
    {
     "data": {
      "text/plain": [
       "12489"
      ]
     },
     "execution_count": 120,
     "metadata": {},
     "output_type": "execute_result"
    }
   ],
   "source": [
    "#(workdf['Gearbox'].str.lower()=='not given/unknown').astype(int)\n",
    "#missing = np.zeros(len(workdf))\n",
    "#workdf['Dry weight (kg)'].isna().astype(int)\n",
    "\n",
    "np.sum(missing!=0)"
   ]
  }
 ],
 "metadata": {
  "kernelspec": {
   "display_name": "Python 3.10.7 64-bit",
   "language": "python",
   "name": "python3"
  },
  "language_info": {
   "codemirror_mode": {
    "name": "ipython",
    "version": 3
   },
   "file_extension": ".py",
   "mimetype": "text/x-python",
   "name": "python",
   "nbconvert_exporter": "python",
   "pygments_lexer": "ipython3",
   "version": "3.10.7"
  },
  "orig_nbformat": 4,
  "vscode": {
   "interpreter": {
    "hash": "369f2c481f4da34e4445cda3fffd2e751bd1c4d706f27375911949ba6bb62e1c"
   }
  }
 },
 "nbformat": 4,
 "nbformat_minor": 2
}
